{
 "cells": [
  {
   "cell_type": "code",
   "execution_count": 1,
   "metadata": {
    "collapsed": true
   },
   "outputs": [],
   "source": [
    "import numpy as np\n",
    "import pandas as pd\n",
    "import matplotlib.pyplot as plt\n",
    "plt.style.use(\"ggplot\")\n",
    "import sklearn.ensemble as skensemble"
   ]
  },
  {
   "cell_type": "code",
   "execution_count": 2,
   "metadata": {
    "collapsed": true
   },
   "outputs": [],
   "source": [
    "titanic_train = pd.DataFrame.from_csv(\"train_processed.csv\")\n",
    "\n",
    "feature_names = [\"Pclass\",\"Age\",\"SibSp\",\"Parch\",\"Fare\",\"IsMale\",\"EmbarkC\",\"EmbarkQ\",\"EmbarkS\"]\n",
    "Xtrain = titanic_train[feature_names]\n",
    "ytrain = titanic_train[\"Survived\"]"
   ]
  },
  {
   "cell_type": "code",
   "execution_count": 3,
   "metadata": {
    "collapsed": true
   },
   "outputs": [],
   "source": [
    "titanic_test = pd.DataFrame.from_csv(\"test_processed.csv\")\n",
    "Xtest = titanic_test[feature_names]"
   ]
  },
  {
   "cell_type": "code",
   "execution_count": 6,
   "metadata": {
    "collapsed": false
   },
   "outputs": [
    {
     "data": {
      "text/plain": [
       "0.81705948372615034"
      ]
     },
     "execution_count": 6,
     "metadata": {},
     "output_type": "execute_result"
    }
   ],
   "source": [
    "criterion = \"entropy\"\n",
    "# criterion = \"gini\"\n",
    "rf = skensemble.RandomForestClassifier(n_estimators=200, criterion=criterion,oob_score=True)\n",
    "rf.fit(Xtrain,ytrain)\n",
    "rf.oob_score_"
   ]
  },
  {
   "cell_type": "code",
   "execution_count": 7,
   "metadata": {
    "collapsed": false
   },
   "outputs": [
    {
     "data": {
      "text/plain": [
       "[(0.2902, 'Fare'),\n",
       " (0.2822, 'Age'),\n",
       " (0.2235, 'IsMale'),\n",
       " (0.0806, 'Pclass'),\n",
       " (0.0489, 'SibSp'),\n",
       " (0.039, 'Parch'),\n",
       " (0.014, 'EmbarkC'),\n",
       " (0.0137, 'EmbarkS'),\n",
       " (0.0079, 'EmbarkQ')]"
      ]
     },
     "execution_count": 7,
     "metadata": {},
     "output_type": "execute_result"
    }
   ],
   "source": [
    "sorted(zip(map(lambda x: round(x, 4), rf.feature_importances_), feature_names),reverse=True)"
   ]
  },
  {
   "cell_type": "code",
   "execution_count": 8,
   "metadata": {
    "collapsed": true
   },
   "outputs": [],
   "source": [
    "predictions = rf.predict(Xtest)\n",
    "submission = pd.DataFrame({\n",
    "        \"PassengerId\": titanic_test[\"PassengerId\"],\n",
    "        \"Survived\": predictions\n",
    "    })\n",
    "\n",
    "filename = \"submission_rf_%s.csv\"%criterion\n",
    "submission.to_csv(filename, index=False)"
   ]
  },
  {
   "cell_type": "code",
   "execution_count": null,
   "metadata": {
    "collapsed": true
   },
   "outputs": [],
   "source": []
  }
 ],
 "metadata": {
  "kernelspec": {
   "display_name": "Python 2",
   "language": "python",
   "name": "python2"
  },
  "language_info": {
   "codemirror_mode": {
    "name": "ipython",
    "version": 2
   },
   "file_extension": ".py",
   "mimetype": "text/x-python",
   "name": "python",
   "nbconvert_exporter": "python",
   "pygments_lexer": "ipython2",
   "version": "2.7.10"
  }
 },
 "nbformat": 4,
 "nbformat_minor": 0
}
