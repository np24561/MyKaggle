{
 "cells": [
  {
   "cell_type": "code",
   "execution_count": 113,
   "metadata": {
    "collapsed": false
   },
   "outputs": [
    {
     "name": "stdout",
     "output_type": "stream",
     "text": [
      "Populating the interactive namespace from numpy and matplotlib\n"
     ]
    },
    {
     "name": "stderr",
     "output_type": "stream",
     "text": [
      "WARNING: pylab import has clobbered these variables: ['colors']\n",
      "`%matplotlib` prevents importing * from pylab and numpy\n"
     ]
    }
   ],
   "source": [
    "%pylab inline\n",
    "import numpy as np\n",
    "import pandas as pd\n",
    "import matplotlib.pyplot as plt\n",
    "plt.style.use(\"ggplot\")\n",
    "\n",
    "from sklearn.preprocessing import StandardScaler\n",
    "from sklearn.linear_model import LogisticRegressionCV\n",
    "from sklearn.ensemble import RandomForestClassifier"
   ]
  },
  {
   "cell_type": "markdown",
   "metadata": {},
   "source": [
    "## Index\n",
    "* [LR select features](#LR-select-features)\n",
    "* [RF select features](#RF-select-features)\n",
    "* [Composite](#Composite)"
   ]
  },
  {
   "cell_type": "code",
   "execution_count": 114,
   "metadata": {
    "collapsed": true
   },
   "outputs": [],
   "source": [
    "train_df = pd.read_csv(\"train_processed.csv\",index_col=\"PassengerId\")\n",
    "ytrain = train_df[\"Survived\"]\n",
    "\n",
    "all_features = [\"Pclass\",\"Age\",\"SibSp\",\"Parch\",\"Fare\",\"IsMale\",                \n",
    "                'EmbarkC','EmbarkQ', 'EmbarkS',                 \n",
    "                \"Ticket-4digit\",\"Ticket-5digit\",\"Ticket-6digit\",\"Ticket-7digit\",\"Ticket-A\",\"Ticket-C\",\"Ticket-F\",\"Ticket-Others\",\"Ticket-P\",\"Ticket-S\",\"Ticket-W\"]\n",
    "Xtrain = train_df[feature_names]"
   ]
  },
  {
   "cell_type": "markdown",
   "metadata": {},
   "source": [
    "### LR select features"
   ]
  },
  {
   "cell_type": "code",
   "execution_count": 115,
   "metadata": {
    "collapsed": true
   },
   "outputs": [],
   "source": [
    "def make_coefs_frame(feature_names,coefs):\n",
    "    coefs = pd.DataFrame({\"names\":feature_names,\"coefs\":coefs},columns=[\"names\",\"coefs\"])\n",
    "    coefs[\"importance\"] = np.abs(coefs.coefs)\n",
    "    coefs.sort_index(by=\"importance\",inplace=True,ascending=False)\n",
    "    coefs.set_index(\"names\",inplace=True)\n",
    "    return coefs"
   ]
  },
  {
   "cell_type": "code",
   "execution_count": 116,
   "metadata": {
    "collapsed": false
   },
   "outputs": [
    {
     "name": "stdout",
     "output_type": "stream",
     "text": [
      "train_score: 0.82\n"
     ]
    },
    {
     "data": {
      "text/html": [
       "<div>\n",
       "<table border=\"1\" class=\"dataframe\">\n",
       "  <thead>\n",
       "    <tr style=\"text-align: right;\">\n",
       "      <th></th>\n",
       "      <th>coefs</th>\n",
       "      <th>importance</th>\n",
       "    </tr>\n",
       "    <tr>\n",
       "      <th>names</th>\n",
       "      <th></th>\n",
       "      <th></th>\n",
       "    </tr>\n",
       "  </thead>\n",
       "  <tbody>\n",
       "    <tr>\n",
       "      <th>IsMale</th>\n",
       "      <td>-1.289085</td>\n",
       "      <td>1.289085</td>\n",
       "    </tr>\n",
       "    <tr>\n",
       "      <th>Pclass</th>\n",
       "      <td>-0.866972</td>\n",
       "      <td>0.866972</td>\n",
       "    </tr>\n",
       "    <tr>\n",
       "      <th>Age</th>\n",
       "      <td>-0.503425</td>\n",
       "      <td>0.503425</td>\n",
       "    </tr>\n",
       "    <tr>\n",
       "      <th>SibSp</th>\n",
       "      <td>-0.402895</td>\n",
       "      <td>0.402895</td>\n",
       "    </tr>\n",
       "    <tr>\n",
       "      <th>Ticket-W</th>\n",
       "      <td>-0.200658</td>\n",
       "      <td>0.200658</td>\n",
       "    </tr>\n",
       "    <tr>\n",
       "      <th>Ticket-5digit</th>\n",
       "      <td>0.176387</td>\n",
       "      <td>0.176387</td>\n",
       "    </tr>\n",
       "    <tr>\n",
       "      <th>Ticket-6digit</th>\n",
       "      <td>-0.146427</td>\n",
       "      <td>0.146427</td>\n",
       "    </tr>\n",
       "    <tr>\n",
       "      <th>Fare</th>\n",
       "      <td>0.131300</td>\n",
       "      <td>0.131300</td>\n",
       "    </tr>\n",
       "    <tr>\n",
       "      <th>Ticket-A</th>\n",
       "      <td>-0.130360</td>\n",
       "      <td>0.130360</td>\n",
       "    </tr>\n",
       "    <tr>\n",
       "      <th>Ticket-C</th>\n",
       "      <td>0.106916</td>\n",
       "      <td>0.106916</td>\n",
       "    </tr>\n",
       "    <tr>\n",
       "      <th>Ticket-4digit</th>\n",
       "      <td>0.083654</td>\n",
       "      <td>0.083654</td>\n",
       "    </tr>\n",
       "    <tr>\n",
       "      <th>EmbarkS</th>\n",
       "      <td>-0.072387</td>\n",
       "      <td>0.072387</td>\n",
       "    </tr>\n",
       "    <tr>\n",
       "      <th>Ticket-P</th>\n",
       "      <td>-0.070450</td>\n",
       "      <td>0.070450</td>\n",
       "    </tr>\n",
       "    <tr>\n",
       "      <th>Ticket-S</th>\n",
       "      <td>0.067101</td>\n",
       "      <td>0.067101</td>\n",
       "    </tr>\n",
       "    <tr>\n",
       "      <th>EmbarkQ</th>\n",
       "      <td>0.065733</td>\n",
       "      <td>0.065733</td>\n",
       "    </tr>\n",
       "    <tr>\n",
       "      <th>Parch</th>\n",
       "      <td>-0.059519</td>\n",
       "      <td>0.059519</td>\n",
       "    </tr>\n",
       "    <tr>\n",
       "      <th>Ticket-7digit</th>\n",
       "      <td>0.046172</td>\n",
       "      <td>0.046172</td>\n",
       "    </tr>\n",
       "    <tr>\n",
       "      <th>EmbarkC</th>\n",
       "      <td>0.035411</td>\n",
       "      <td>0.035411</td>\n",
       "    </tr>\n",
       "    <tr>\n",
       "      <th>Ticket-F</th>\n",
       "      <td>0.029562</td>\n",
       "      <td>0.029562</td>\n",
       "    </tr>\n",
       "    <tr>\n",
       "      <th>Ticket-Others</th>\n",
       "      <td>-0.000687</td>\n",
       "      <td>0.000687</td>\n",
       "    </tr>\n",
       "  </tbody>\n",
       "</table>\n",
       "</div>"
      ],
      "text/plain": [
       "                  coefs  importance\n",
       "names                              \n",
       "IsMale        -1.289085    1.289085\n",
       "Pclass        -0.866972    0.866972\n",
       "Age           -0.503425    0.503425\n",
       "SibSp         -0.402895    0.402895\n",
       "Ticket-W      -0.200658    0.200658\n",
       "Ticket-5digit  0.176387    0.176387\n",
       "Ticket-6digit -0.146427    0.146427\n",
       "Fare           0.131300    0.131300\n",
       "Ticket-A      -0.130360    0.130360\n",
       "Ticket-C       0.106916    0.106916\n",
       "Ticket-4digit  0.083654    0.083654\n",
       "EmbarkS       -0.072387    0.072387\n",
       "Ticket-P      -0.070450    0.070450\n",
       "Ticket-S       0.067101    0.067101\n",
       "EmbarkQ        0.065733    0.065733\n",
       "Parch         -0.059519    0.059519\n",
       "Ticket-7digit  0.046172    0.046172\n",
       "EmbarkC        0.035411    0.035411\n",
       "Ticket-F       0.029562    0.029562\n",
       "Ticket-Others -0.000687    0.000687"
      ]
     },
     "execution_count": 116,
     "metadata": {},
     "output_type": "execute_result"
    }
   ],
   "source": [
    "scaler = StandardScaler()\n",
    "Xtrain_scaled = scaler.fit_transform(Xtrain)\n",
    "    \n",
    "lrcv = LogisticRegressionCV()\n",
    "lrcv.fit(Xtrain_scaled,ytrain)\n",
    "    \n",
    "train_score = lrcv.score(Xtrain_scaled,ytrain)\n",
    "lr_coefs = make_coefs_frame(feature_names,lrcv.coef_.ravel())\n",
    "    \n",
    "print \"train_score: %3.2f\"%train_score\n",
    "lr_coefs"
   ]
  },
  {
   "cell_type": "code",
   "execution_count": 117,
   "metadata": {
    "collapsed": false
   },
   "outputs": [
    {
     "data": {
      "text/plain": [
       "<matplotlib.axes._subplots.AxesSubplot at 0x247f64a8>"
      ]
     },
     "execution_count": 117,
     "metadata": {},
     "output_type": "execute_result"
    },
    {
     "data": {
      "image/png": "[encoded data removed]",
      "text/plain": [
       "<matplotlib.figure.Figure at 0x2507fda0>"
      ]
     },
     "metadata": {},
     "output_type": "display_data"
    }
   ],
   "source": [
    "bar_colors = np.where(coefs.coefs > 0,\"b\",\"r\")    \n",
    "lr_coefs.importance.plot(kind=\"bar\",color=bar_colors,figsize=(12,4))"
   ]
  },
  {
   "cell_type": "markdown",
   "metadata": {
    "collapsed": false
   },
   "source": [
    "### RF select features"
   ]
  },
  {
   "cell_type": "code",
   "execution_count": 118,
   "metadata": {
    "collapsed": false
   },
   "outputs": [
    {
     "name": "stdout",
     "output_type": "stream",
     "text": [
      "train score: 0.97\n"
     ]
    }
   ],
   "source": [
    "rf = RandomForestClassifier()\n",
    "rf.fit(Xtrain,ytrain)\n",
    "print \"train score: %3.2f\"%(rf.score(Xtrain,ytrain))"
   ]
  },
  {
   "cell_type": "code",
   "execution_count": 119,
   "metadata": {
    "collapsed": false
   },
   "outputs": [
    {
     "data": {
      "text/html": [
       "<div>\n",
       "<table border=\"1\" class=\"dataframe\">\n",
       "  <thead>\n",
       "    <tr style=\"text-align: right;\">\n",
       "      <th></th>\n",
       "      <th>importance</th>\n",
       "    </tr>\n",
       "    <tr>\n",
       "      <th>names</th>\n",
       "      <th></th>\n",
       "    </tr>\n",
       "  </thead>\n",
       "  <tbody>\n",
       "    <tr>\n",
       "      <th>IsMale</th>\n",
       "      <td>0.250275</td>\n",
       "    </tr>\n",
       "    <tr>\n",
       "      <th>Age</th>\n",
       "      <td>0.248479</td>\n",
       "    </tr>\n",
       "    <tr>\n",
       "      <th>Fare</th>\n",
       "      <td>0.220881</td>\n",
       "    </tr>\n",
       "    <tr>\n",
       "      <th>Pclass</th>\n",
       "      <td>0.070961</td>\n",
       "    </tr>\n",
       "    <tr>\n",
       "      <th>SibSp</th>\n",
       "      <td>0.052784</td>\n",
       "    </tr>\n",
       "    <tr>\n",
       "      <th>Parch</th>\n",
       "      <td>0.041647</td>\n",
       "    </tr>\n",
       "    <tr>\n",
       "      <th>Ticket-5digit</th>\n",
       "      <td>0.019874</td>\n",
       "    </tr>\n",
       "    <tr>\n",
       "      <th>EmbarkS</th>\n",
       "      <td>0.015241</td>\n",
       "    </tr>\n",
       "    <tr>\n",
       "      <th>Ticket-6digit</th>\n",
       "      <td>0.014543</td>\n",
       "    </tr>\n",
       "    <tr>\n",
       "      <th>Ticket-4digit</th>\n",
       "      <td>0.012616</td>\n",
       "    </tr>\n",
       "    <tr>\n",
       "      <th>EmbarkC</th>\n",
       "      <td>0.012080</td>\n",
       "    </tr>\n",
       "    <tr>\n",
       "      <th>Ticket-S</th>\n",
       "      <td>0.009589</td>\n",
       "    </tr>\n",
       "    <tr>\n",
       "      <th>Ticket-P</th>\n",
       "      <td>0.007256</td>\n",
       "    </tr>\n",
       "    <tr>\n",
       "      <th>Ticket-C</th>\n",
       "      <td>0.005136</td>\n",
       "    </tr>\n",
       "    <tr>\n",
       "      <th>Ticket-A</th>\n",
       "      <td>0.005017</td>\n",
       "    </tr>\n",
       "    <tr>\n",
       "      <th>EmbarkQ</th>\n",
       "      <td>0.004856</td>\n",
       "    </tr>\n",
       "    <tr>\n",
       "      <th>Ticket-7digit</th>\n",
       "      <td>0.003477</td>\n",
       "    </tr>\n",
       "    <tr>\n",
       "      <th>Ticket-Others</th>\n",
       "      <td>0.002423</td>\n",
       "    </tr>\n",
       "    <tr>\n",
       "      <th>Ticket-W</th>\n",
       "      <td>0.001692</td>\n",
       "    </tr>\n",
       "    <tr>\n",
       "      <th>Ticket-F</th>\n",
       "      <td>0.001175</td>\n",
       "    </tr>\n",
       "  </tbody>\n",
       "</table>\n",
       "</div>"
      ],
      "text/plain": [
       "               importance\n",
       "names                    \n",
       "IsMale           0.250275\n",
       "Age              0.248479\n",
       "Fare             0.220881\n",
       "Pclass           0.070961\n",
       "SibSp            0.052784\n",
       "Parch            0.041647\n",
       "Ticket-5digit    0.019874\n",
       "EmbarkS          0.015241\n",
       "Ticket-6digit    0.014543\n",
       "Ticket-4digit    0.012616\n",
       "EmbarkC          0.012080\n",
       "Ticket-S         0.009589\n",
       "Ticket-P         0.007256\n",
       "Ticket-C         0.005136\n",
       "Ticket-A         0.005017\n",
       "EmbarkQ          0.004856\n",
       "Ticket-7digit    0.003477\n",
       "Ticket-Others    0.002423\n",
       "Ticket-W         0.001692\n",
       "Ticket-F         0.001175"
      ]
     },
     "execution_count": 119,
     "metadata": {},
     "output_type": "execute_result"
    }
   ],
   "source": [
    "def make_importance_frame(feature_names,importances):\n",
    "    coefs = pd.DataFrame({\"names\":feature_names,\"importance\":importances},columns=[\"names\",\"importance\"])\n",
    "    coefs.sort_index(by=\"importance\",inplace=True,ascending=False)\n",
    "    coefs.set_index(\"names\",inplace=True)\n",
    "    return coefs\n",
    "rf_importances = make_importance_frame(feature_names,rf.feature_importances_)\n",
    "rf_importances"
   ]
  },
  {
   "cell_type": "code",
   "execution_count": 120,
   "metadata": {
    "collapsed": false
   },
   "outputs": [
    {
     "data": {
      "text/plain": [
       "<matplotlib.axes._subplots.AxesSubplot at 0x2534ce10>"
      ]
     },
     "execution_count": 120,
     "metadata": {},
     "output_type": "execute_result"
    },
    {
     "data": {
      "image/png": "[encoded data removed]",
      "text/plain": [
       "<matplotlib.figure.Figure at 0x1cc15b00>"
      ]
     },
     "metadata": {},
     "output_type": "display_data"
    }
   ],
   "source": [
    "rf_importances.plot(kind=\"bar\",figsize=(12,4))"
   ]
  },
  {
   "cell_type": "markdown",
   "metadata": {},
   "source": [
    "### Composite"
   ]
  },
  {
   "cell_type": "code",
   "execution_count": 125,
   "metadata": {
    "collapsed": false
   },
   "outputs": [
    {
     "data": {
      "text/html": [
       "<div>\n",
       "<table border=\"1\" class=\"dataframe\">\n",
       "  <thead>\n",
       "    <tr style=\"text-align: right;\">\n",
       "      <th></th>\n",
       "      <th>lr_importance</th>\n",
       "      <th>rf_importance</th>\n",
       "    </tr>\n",
       "  </thead>\n",
       "  <tbody>\n",
       "    <tr>\n",
       "      <th>IsMale</th>\n",
       "      <td>1.289085</td>\n",
       "      <td>0.250275</td>\n",
       "    </tr>\n",
       "    <tr>\n",
       "      <th>Age</th>\n",
       "      <td>0.503425</td>\n",
       "      <td>0.248479</td>\n",
       "    </tr>\n",
       "    <tr>\n",
       "      <th>Fare</th>\n",
       "      <td>0.131300</td>\n",
       "      <td>0.220881</td>\n",
       "    </tr>\n",
       "    <tr>\n",
       "      <th>Pclass</th>\n",
       "      <td>0.866972</td>\n",
       "      <td>0.070961</td>\n",
       "    </tr>\n",
       "    <tr>\n",
       "      <th>SibSp</th>\n",
       "      <td>0.402895</td>\n",
       "      <td>0.052784</td>\n",
       "    </tr>\n",
       "    <tr>\n",
       "      <th>Parch</th>\n",
       "      <td>0.059519</td>\n",
       "      <td>0.041647</td>\n",
       "    </tr>\n",
       "    <tr>\n",
       "      <th>Ticket-5digit</th>\n",
       "      <td>0.176387</td>\n",
       "      <td>0.019874</td>\n",
       "    </tr>\n",
       "    <tr>\n",
       "      <th>EmbarkS</th>\n",
       "      <td>0.072387</td>\n",
       "      <td>0.015241</td>\n",
       "    </tr>\n",
       "    <tr>\n",
       "      <th>Ticket-6digit</th>\n",
       "      <td>0.146427</td>\n",
       "      <td>0.014543</td>\n",
       "    </tr>\n",
       "    <tr>\n",
       "      <th>Ticket-4digit</th>\n",
       "      <td>0.083654</td>\n",
       "      <td>0.012616</td>\n",
       "    </tr>\n",
       "    <tr>\n",
       "      <th>EmbarkC</th>\n",
       "      <td>0.035411</td>\n",
       "      <td>0.012080</td>\n",
       "    </tr>\n",
       "    <tr>\n",
       "      <th>Ticket-S</th>\n",
       "      <td>0.067101</td>\n",
       "      <td>0.009589</td>\n",
       "    </tr>\n",
       "    <tr>\n",
       "      <th>Ticket-P</th>\n",
       "      <td>0.070450</td>\n",
       "      <td>0.007256</td>\n",
       "    </tr>\n",
       "    <tr>\n",
       "      <th>Ticket-C</th>\n",
       "      <td>0.106916</td>\n",
       "      <td>0.005136</td>\n",
       "    </tr>\n",
       "    <tr>\n",
       "      <th>Ticket-A</th>\n",
       "      <td>0.130360</td>\n",
       "      <td>0.005017</td>\n",
       "    </tr>\n",
       "    <tr>\n",
       "      <th>EmbarkQ</th>\n",
       "      <td>0.065733</td>\n",
       "      <td>0.004856</td>\n",
       "    </tr>\n",
       "    <tr>\n",
       "      <th>Ticket-7digit</th>\n",
       "      <td>0.046172</td>\n",
       "      <td>0.003477</td>\n",
       "    </tr>\n",
       "    <tr>\n",
       "      <th>Ticket-Others</th>\n",
       "      <td>0.000687</td>\n",
       "      <td>0.002423</td>\n",
       "    </tr>\n",
       "    <tr>\n",
       "      <th>Ticket-W</th>\n",
       "      <td>0.200658</td>\n",
       "      <td>0.001692</td>\n",
       "    </tr>\n",
       "    <tr>\n",
       "      <th>Ticket-F</th>\n",
       "      <td>0.029562</td>\n",
       "      <td>0.001175</td>\n",
       "    </tr>\n",
       "  </tbody>\n",
       "</table>\n",
       "</div>"
      ],
      "text/plain": [
       "               lr_importance  rf_importance\n",
       "IsMale              1.289085       0.250275\n",
       "Age                 0.503425       0.248479\n",
       "Fare                0.131300       0.220881\n",
       "Pclass              0.866972       0.070961\n",
       "SibSp               0.402895       0.052784\n",
       "Parch               0.059519       0.041647\n",
       "Ticket-5digit       0.176387       0.019874\n",
       "EmbarkS             0.072387       0.015241\n",
       "Ticket-6digit       0.146427       0.014543\n",
       "Ticket-4digit       0.083654       0.012616\n",
       "EmbarkC             0.035411       0.012080\n",
       "Ticket-S            0.067101       0.009589\n",
       "Ticket-P            0.070450       0.007256\n",
       "Ticket-C            0.106916       0.005136\n",
       "Ticket-A            0.130360       0.005017\n",
       "EmbarkQ             0.065733       0.004856\n",
       "Ticket-7digit       0.046172       0.003477\n",
       "Ticket-Others       0.000687       0.002423\n",
       "Ticket-W            0.200658       0.001692\n",
       "Ticket-F            0.029562       0.001175"
      ]
     },
     "execution_count": 125,
     "metadata": {},
     "output_type": "execute_result"
    }
   ],
   "source": [
    "importances = pd.concat([lr_coefs.importance,rf_importances.importance],keys=[\"lr_importance\",\"rf_importance\"],axis=1)\n",
    "importances.sort_index(by=\"rf_importance\",ascending=False,inplace=True)\n",
    "importances"
   ]
  },
  {
   "cell_type": "code",
   "execution_count": 123,
   "metadata": {
    "collapsed": false
   },
   "outputs": [],
   "source": [
    "min_importances = importances.min()\n",
    "importance_ranges = importances.max() - min_importances\n",
    "normed_importances = (importances - min_importances)/importance_ranges"
   ]
  },
  {
   "cell_type": "code",
   "execution_count": 124,
   "metadata": {
    "collapsed": false
   },
   "outputs": [
    {
     "data": {
      "text/plain": [
       "<matplotlib.axes._subplots.AxesSubplot at 0x257309b0>"
      ]
     },
     "execution_count": 124,
     "metadata": {},
     "output_type": "execute_result"
    },
    {
     "data": {
      "image/png": "[encoded data removed]",
      "text/plain": [
       "<matplotlib.figure.Figure at 0x257ea630>"
      ]
     },
     "metadata": {},
     "output_type": "display_data"
    }
   ],
   "source": [
    "normed_importances.plot(kind=\"bar\",figsize=(15,4))"
   ]
  },
  {
   "cell_type": "markdown",
   "metadata": {},
   "source": [
    "so we choose features:\n",
    "* Age\n",
    "* Fare\n",
    "* IsMale\n",
    "* Parch\n",
    "* Pclass\n",
    "* SibSp\n",
    "* Ticket-4digit\n",
    "* Ticket-5digit\n",
    "* Ticket-6digit"
   ]
  },
  {
   "cell_type": "code",
   "execution_count": null,
   "metadata": {
    "collapsed": true
   },
   "outputs": [],
   "source": []
  }
 ],
 "metadata": {
  "kernelspec": {
   "display_name": "Python 2",
   "language": "python",
   "name": "python2"
  },
  "language_info": {
   "codemirror_mode": {
    "name": "ipython",
    "version": 2
   },
   "file_extension": ".py",
   "mimetype": "text/x-python",
   "name": "python",
   "nbconvert_exporter": "python",
   "pygments_lexer": "ipython2",
   "version": "2.7.10"
  }
 },
 "nbformat": 4,
 "nbformat_minor": 0
}
