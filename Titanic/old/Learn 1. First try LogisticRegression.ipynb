{
 "cells": [
  {
   "cell_type": "code",
   "execution_count": 2,
   "metadata": {
    "collapsed": true
   },
   "outputs": [],
   "source": [
    "import numpy as np\n",
    "import pandas as pd\n",
    "import matplotlib.pyplot as plt\n",
    "plt.style.use(\"ggplot\")\n",
    "import sklearn.preprocessing as skpreprocess\n",
    "import sklearn.linear_model as sklinear"
   ]
  },
  {
   "cell_type": "markdown",
   "metadata": {},
   "source": [
    "### load training data"
   ]
  },
  {
   "cell_type": "code",
   "execution_count": 3,
   "metadata": {
    "collapsed": true
   },
   "outputs": [],
   "source": [
    "titanic_train = pd.DataFrame.from_csv(\"train_processed.csv\")\n",
    "feature_names = [\"Pclass\",\"Age\",\"SibSp\",\"Parch\",\"Fare\",\"IsMale\",\"EmbarkC\",\"EmbarkQ\",\"EmbarkS\"]\n",
    "\n",
    "Xtrain = titanic_train[feature_names]\n",
    "ytrain = titanic_train[\"Survived\"]"
   ]
  },
  {
   "cell_type": "markdown",
   "metadata": {},
   "source": [
    "### scale the training data"
   ]
  },
  {
   "cell_type": "code",
   "execution_count": 4,
   "metadata": {
    "collapsed": false
   },
   "outputs": [
    {
     "name": "stdout",
     "output_type": "stream",
     "text": [
      "mean of each column:  [ -8.77213254e-17   2.27277979e-16   4.38606627e-17   5.38289951e-17\n",
      "   3.98733297e-18  -1.15632656e-16  -1.99366649e-17   0.00000000e+00\n",
      "  -8.37339924e-17]\n",
      "std of each column:  [ 1.  1.  1.  1.  1.  1.  1.  1.  1.]\n"
     ]
    }
   ],
   "source": [
    "# scale the train data\n",
    "scaler = skpreprocess.StandardScaler()\n",
    "Xtrain_scaled = scaler.fit_transform(Xtrain)\n",
    "print \"mean of each column: \",Xtrain_scaled.mean(axis=0)\n",
    "print \"std of each column: \",Xtrain_scaled.std(axis=0)"
   ]
  },
  {
   "cell_type": "markdown",
   "metadata": {},
   "source": [
    "### traing with LogisticRegression"
   ]
  },
  {
   "cell_type": "code",
   "execution_count": 5,
   "metadata": {
    "collapsed": false
   },
   "outputs": [
    {
     "name": "stdout",
     "output_type": "stream",
     "text": [
      "training accuracy is:  0.799102132435\n"
     ]
    }
   ],
   "source": [
    "# fit a LR classifier\n",
    "lr = sklinear.LogisticRegression()\n",
    "lr.fit(Xtrain_scaled,ytrain)\n",
    "train_accuracy = lr.score(Xtrain_scaled,ytrain)\n",
    "print \"training accuracy is: \", train_accuracy"
   ]
  },
  {
   "cell_type": "code",
   "execution_count": 12,
   "metadata": {
    "collapsed": false
   },
   "outputs": [
    {
     "data": {
      "text/plain": [
       "'-1.288 * IsMale + -0.902 * Pclass + -0.497 * Age + -0.35 * SibSp + 0.103 * Fare + -0.092 * EmbarkS + 0.078 * EmbarkC + -0.072 * Parch + 0.038 * EmbarkQ'"
      ]
     },
     "execution_count": 12,
     "metadata": {},
     "output_type": "execute_result"
    }
   ],
   "source": [
    "def pretty_print_coef(coefs, names=None, sort=False):\n",
    "    if names == None:\n",
    "        names = [\"X%s\" % x for x in range(len(coefs))]\n",
    "    lst = zip(coefs, names)\n",
    "    if sort:\n",
    "        lst = sorted(lst,  key = lambda x:-np.abs(x[0]))\n",
    "    return \" + \".join(\"%s * %s\" % (round(coef, 3), name)     for coef, name in lst)\n",
    "\n",
    "pretty_print_coef(lr.coef_.ravel(),feature_names,True)"
   ]
  },
  {
   "cell_type": "markdown",
   "metadata": {},
   "source": [
    "### load test data and scale"
   ]
  },
  {
   "cell_type": "code",
   "execution_count": 7,
   "metadata": {
    "collapsed": true
   },
   "outputs": [],
   "source": [
    "titanic_test = pd.DataFrame.from_csv(\"test_processed.csv\")\n",
    "Xtest = titanic_test[feature_names]\n",
    "Xtest_scaled = scaler.transform(Xtest)"
   ]
  },
  {
   "cell_type": "markdown",
   "metadata": {},
   "source": [
    "### predict and submit"
   ]
  },
  {
   "cell_type": "code",
   "execution_count": 8,
   "metadata": {
    "collapsed": true
   },
   "outputs": [],
   "source": [
    "predictions = lr.predict(Xtest_scaled)\n",
    "submission = pd.DataFrame({\n",
    "        \"PassengerId\": titanic_test[\"PassengerId\"],\n",
    "        \"Survived\": predictions\n",
    "    })\n",
    "submission.to_csv(\"submission.csv\", index=False)"
   ]
  }
 ],
 "metadata": {
  "kernelspec": {
   "display_name": "Python 2",
   "language": "python",
   "name": "python2"
  },
  "language_info": {
   "codemirror_mode": {
    "name": "ipython",
    "version": 2
   },
   "file_extension": ".py",
   "mimetype": "text/x-python",
   "name": "python",
   "nbconvert_exporter": "python",
   "pygments_lexer": "ipython2",
   "version": "2.7.10"
  }
 },
 "nbformat": 4,
 "nbformat_minor": 0
}
