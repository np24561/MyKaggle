{
 "cells": [
  {
   "cell_type": "code",
   "execution_count": 10,
   "metadata": {
    "collapsed": true
   },
   "outputs": [],
   "source": [
    "import numpy as np\n",
    "import pandas as pd\n",
    "import matplotlib.pyplot as plt\n",
    "plt.style.use(\"ggplot\")\n",
    "import sklearn.ensemble as skensemble"
   ]
  },
  {
   "cell_type": "code",
   "execution_count": 6,
   "metadata": {
    "collapsed": false
   },
   "outputs": [
    {
     "name": "stdout",
     "output_type": "stream",
     "text": [
      "锘�\n",
      "import pickle\n",
      "import numpy as np\n",
      "import pandas as pd\n",
      "import matplotlib.pyplot as plt\n",
      "plt.style.use(\"ggplot\")\n",
      "from sklearn.ensemble import RandomForestClassifier\n",
      "from sklearn.grid_search import RandomizedSearchCV\n",
      "from scipy.stats import randint as sp_randint\n",
      "\n",
      "if __name__ == \"__main__\":\n",
      "    titanic_train = pd.read_csv(\"train_processed.csv\",index_col=\"PassengerId\")\n",
      "\n",
      "    feature_names = [\"Pclass\",\"Age\",\"SibSp\",\"Parch\",\"Fare\",\"IsMale\",\"Ticket-4digit\",\"Ticket-5digit\",\"Ticket-6digit\",\"Ticket-7digit\",\"Ticket-A\",\"Ticket-C\",\"Ticket-F\",\"Ticket-Others\",\"Ticket-P\",\"Ticket-S\",\"Ticket-W\"]\n",
      "    Xtrain = titanic_train[feature_names]\n",
      "    ytrain = titanic_train[\"Survived\"]\n",
      "\n",
      "    param_dist = {\"n_estimators\":  sp_randint(1000,4800),                \n",
      "                  \"max_depth\": [2,3, 4,5,6,7,8,9,None],              \n",
      "                  \"criterion\": [\"gini\", \"entropy\"]}\n",
      "\n",
      "    njobs = 4\n",
      "    rf = RandomForestClassifier(oob_score=True,verbose=1,n_jobs=njobs)\n",
      "    searchcv = RandomizedSearchCV(estimator=rf, param_distributions=param_dist,n_iter=200,n_jobs=njobs)\n",
      "\n",
      "    print \"#################### search cv begins\"\n",
      "    searchcv.fit(Xtrain,ytrain)    \n",
      "    print \"#################### search cv ends\"\n",
      "\n",
      "    with open('rf.pkl', 'wb') as outfile:\n",
      "        pickle.dump(searchcv.best_estimator_,outfile)\n",
      "    print \"*** RF saved into file\"\n",
      "\n",
      "    print \"best score: \",searchcv.best_score_                                  \n",
      "    print \"best parameters: \",searchcv.best_params_\n",
      "\n",
      "    rf = searchcv.best_estimator_\n",
      "    print \"feature importance: \"\n",
      "    print sorted(zip(map(lambda x: round(x, 4), rf.feature_importances_), feature_names),reverse=True)\n"
     ]
    }
   ],
   "source": [
    "!type train_rf.py"
   ]
  },
  {
   "cell_type": "code",
   "execution_count": 7,
   "metadata": {
    "collapsed": true
   },
   "outputs": [],
   "source": [
    "import pickle\n",
    "with open(\"rf.pkl\",\"rb\") as infile:\n",
    "    rf = pickle.load(infile)"
   ]
  },
  {
   "cell_type": "code",
   "execution_count": 15,
   "metadata": {
    "collapsed": false
   },
   "outputs": [
    {
     "data": {
      "text/html": [
       "<div>\n",
       "<table border=\"1\" class=\"dataframe\">\n",
       "  <thead>\n",
       "    <tr style=\"text-align: right;\">\n",
       "      <th></th>\n",
       "      <th>Name</th>\n",
       "      <th>Importance</th>\n",
       "    </tr>\n",
       "  </thead>\n",
       "  <tbody>\n",
       "    <tr>\n",
       "      <th>5</th>\n",
       "      <td>IsMale</td>\n",
       "      <td>0.319590</td>\n",
       "    </tr>\n",
       "    <tr>\n",
       "      <th>4</th>\n",
       "      <td>Fare</td>\n",
       "      <td>0.203709</td>\n",
       "    </tr>\n",
       "    <tr>\n",
       "      <th>1</th>\n",
       "      <td>Age</td>\n",
       "      <td>0.174778</td>\n",
       "    </tr>\n",
       "    <tr>\n",
       "      <th>0</th>\n",
       "      <td>Pclass</td>\n",
       "      <td>0.101599</td>\n",
       "    </tr>\n",
       "    <tr>\n",
       "      <th>2</th>\n",
       "      <td>SibSp</td>\n",
       "      <td>0.055281</td>\n",
       "    </tr>\n",
       "    <tr>\n",
       "      <th>3</th>\n",
       "      <td>Parch</td>\n",
       "      <td>0.038296</td>\n",
       "    </tr>\n",
       "    <tr>\n",
       "      <th>7</th>\n",
       "      <td>Ticket-5digit</td>\n",
       "      <td>0.026742</td>\n",
       "    </tr>\n",
       "    <tr>\n",
       "      <th>8</th>\n",
       "      <td>Ticket-6digit</td>\n",
       "      <td>0.015717</td>\n",
       "    </tr>\n",
       "    <tr>\n",
       "      <th>6</th>\n",
       "      <td>Ticket-4digit</td>\n",
       "      <td>0.013357</td>\n",
       "    </tr>\n",
       "    <tr>\n",
       "      <th>14</th>\n",
       "      <td>Ticket-P</td>\n",
       "      <td>0.011017</td>\n",
       "    </tr>\n",
       "    <tr>\n",
       "      <th>15</th>\n",
       "      <td>Ticket-S</td>\n",
       "      <td>0.010736</td>\n",
       "    </tr>\n",
       "    <tr>\n",
       "      <th>11</th>\n",
       "      <td>Ticket-C</td>\n",
       "      <td>0.007689</td>\n",
       "    </tr>\n",
       "    <tr>\n",
       "      <th>10</th>\n",
       "      <td>Ticket-A</td>\n",
       "      <td>0.007182</td>\n",
       "    </tr>\n",
       "    <tr>\n",
       "      <th>16</th>\n",
       "      <td>Ticket-W</td>\n",
       "      <td>0.006266</td>\n",
       "    </tr>\n",
       "    <tr>\n",
       "      <th>9</th>\n",
       "      <td>Ticket-7digit</td>\n",
       "      <td>0.004677</td>\n",
       "    </tr>\n",
       "    <tr>\n",
       "      <th>13</th>\n",
       "      <td>Ticket-Others</td>\n",
       "      <td>0.001810</td>\n",
       "    </tr>\n",
       "    <tr>\n",
       "      <th>12</th>\n",
       "      <td>Ticket-F</td>\n",
       "      <td>0.001555</td>\n",
       "    </tr>\n",
       "  </tbody>\n",
       "</table>\n",
       "</div>"
      ],
      "text/plain": [
       "             Name  Importance\n",
       "5          IsMale    0.319590\n",
       "4            Fare    0.203709\n",
       "1             Age    0.174778\n",
       "0          Pclass    0.101599\n",
       "2           SibSp    0.055281\n",
       "3           Parch    0.038296\n",
       "7   Ticket-5digit    0.026742\n",
       "8   Ticket-6digit    0.015717\n",
       "6   Ticket-4digit    0.013357\n",
       "14       Ticket-P    0.011017\n",
       "15       Ticket-S    0.010736\n",
       "11       Ticket-C    0.007689\n",
       "10       Ticket-A    0.007182\n",
       "16       Ticket-W    0.006266\n",
       "9   Ticket-7digit    0.004677\n",
       "13  Ticket-Others    0.001810\n",
       "12       Ticket-F    0.001555"
      ]
     },
     "execution_count": 15,
     "metadata": {},
     "output_type": "execute_result"
    }
   ],
   "source": [
    "feature_names = [\"Pclass\",\"Age\",\"SibSp\",\"Parch\",\"Fare\",\"IsMale\",\"Ticket-4digit\",\"Ticket-5digit\",\"Ticket-6digit\",\"Ticket-7digit\",\"Ticket-A\",\"Ticket-C\",\"Ticket-F\",\"Ticket-Others\",\"Ticket-P\",\"Ticket-S\",\"Ticket-W\"]\n",
    "feature_importance = pd.DataFrame( {\"Importance\": rf.feature_importances_,\"Name\":feature_names},columns=[\"Name\",\"Importance\"])\n",
    "feature_importance.sort_index(by=\"Importance\",ascending=False)"
   ]
  },
  {
   "cell_type": "code",
   "execution_count": null,
   "metadata": {
    "collapsed": true
   },
   "outputs": [],
   "source": []
  }
 ],
 "metadata": {
  "kernelspec": {
   "display_name": "Python 2",
   "language": "python",
   "name": "python2"
  },
  "language_info": {
   "codemirror_mode": {
    "name": "ipython",
    "version": 2
   },
   "file_extension": ".py",
   "mimetype": "text/x-python",
   "name": "python",
   "nbconvert_exporter": "python",
   "pygments_lexer": "ipython2",
   "version": "2.7.10"
  }
 },
 "nbformat": 4,
 "nbformat_minor": 0
}
