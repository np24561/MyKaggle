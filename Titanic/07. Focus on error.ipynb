{
 "cells": [
  {
   "cell_type": "code",
   "execution_count": 4,
   "metadata": {
    "collapsed": true
   },
   "outputs": [],
   "source": [
    "import collections\n",
    "\n",
    "import numpy as np\n",
    "import pandas as pd\n",
    "import matplotlib.pyplot as plt\n",
    "plt.style.use(\"ggplot\")\n",
    "\n",
    "from sklearn.preprocessing import StandardScaler\n",
    "\n",
    "import common"
   ]
  },
  {
   "cell_type": "code",
   "execution_count": 2,
   "metadata": {
    "collapsed": true
   },
   "outputs": [],
   "source": [
    "feature_names = [\"Pclass\",\"Age\",\"SibSp\",\"Parch\",\"Fare\",\"IsMale\",\"Ticket-4digit\",\"Ticket-5digit\",\"Ticket-6digit\"]\n",
    "train_df = pd.read_csv(\"train_processed.csv\",index_col=\"PassengerId\")\n",
    "\n",
    "Xtrain = train_df[feature_names]\n",
    "ytrain = train_df[\"Survived\"]"
   ]
  },
  {
   "cell_type": "code",
   "execution_count": 5,
   "metadata": {
    "collapsed": false
   },
   "outputs": [],
   "source": [
    "scaler = StandardScaler()\n",
    "Xtrain_scaled = scaler.fit_transform(Xtrain)"
   ]
  },
  {
   "cell_type": "code",
   "execution_count": 6,
   "metadata": {
    "collapsed": true
   },
   "outputs": [],
   "source": [
    "methods = [(\"lr\",True),(\"svc\",True),(\"knn\",True),(\"rf\",False),(\"gbdt\",False)]\n",
    "\n",
    "def fit_train_data(allresults,name,needscale):\n",
    "    traindata = Xtrain_scaled if needscale else Xtrain\n",
    "\n",
    "    estimator = common.load_predictor(\"%s.pkl\"%name)\n",
    "    print \"[%s] training score: %f\"%(name,estimator.score(traindata,ytrain))\n",
    "\n",
    "    predictions = estimator.predict(traindata)\n",
    "    allresults.append(predictions)"
   ]
  },
  {
   "cell_type": "code",
   "execution_count": 7,
   "metadata": {
    "collapsed": false
   },
   "outputs": [
    {
     "name": "stderr",
     "output_type": "stream",
     "text": [
      "[Parallel(n_jobs=4)]: Done   1 out of   5 | elapsed:    0.0s remaining:    0.0s\n",
      "[Parallel(n_jobs=4)]: Done 3627 out of 3627 | elapsed:    0.7s finished\n"
     ]
    },
    {
     "name": "stdout",
     "output_type": "stream",
     "text": [
      "[lr] training score: 0.812570\n",
      "[svc] training score: 0.801347\n",
      "[knn] training score: 0.885522\n",
      "[rf] training score: 0.920314"
     ]
    },
    {
     "name": "stderr",
     "output_type": "stream",
     "text": [
      "[Parallel(n_jobs=4)]: Done   1 out of   8 | elapsed:    0.0s remaining:    0.0s\n",
      "[Parallel(n_jobs=4)]: Done 3627 out of 3627 | elapsed:    0.7s finished\n"
     ]
    },
    {
     "name": "stdout",
     "output_type": "stream",
     "text": [
      "\n",
      "[gbdt] training score: 0.909091\n"
     ]
    }
   ],
   "source": [
    "all_train_results = []\n",
    "for (name,needscale) in methods:\n",
    "    fit_train_data(all_train_results,name,needscale)"
   ]
  },
  {
   "cell_type": "code",
   "execution_count": 8,
   "metadata": {
    "collapsed": true
   },
   "outputs": [],
   "source": [
    "all_train_results = pd.DataFrame(np.asarray(all_train_results).T ,\n",
    "                                 index = Xtrain.index,\n",
    "                                 columns = [ m for m,_ in methods])"
   ]
  },
  {
   "cell_type": "code",
   "execution_count": null,
   "metadata": {
    "collapsed": true
   },
   "outputs": [],
   "source": []
  }
 ],
 "metadata": {
  "kernelspec": {
   "display_name": "Python 2",
   "language": "python",
   "name": "python2"
  },
  "language_info": {
   "codemirror_mode": {
    "name": "ipython",
    "version": 2
   },
   "file_extension": ".py",
   "mimetype": "text/x-python",
   "name": "python",
   "nbconvert_exporter": "python",
   "pygments_lexer": "ipython2",
   "version": "2.7.10"
  }
 },
 "nbformat": 4,
 "nbformat_minor": 0
}
